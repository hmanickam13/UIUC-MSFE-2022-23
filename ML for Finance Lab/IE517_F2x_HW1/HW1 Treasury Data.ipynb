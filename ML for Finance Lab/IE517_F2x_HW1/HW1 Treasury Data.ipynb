{
 "cells": [
  {
   "cell_type": "code",
   "execution_count": 1,
   "id": "deca4aff",
   "metadata": {
    "scrolled": false
   },
   "outputs": [
    {
     "name": "stdout",
     "output_type": "stream",
     "text": [
      "The scikit learn version is 1.0.2.\n"
     ]
    }
   ],
   "source": [
    "import sklearn\n",
    "import pandas as pd\n",
    "print( 'The scikit learn version is {}.'.format(sklearn.__version__))\n",
    "\n",
    "df = pd.read_csv('Treasury Squeeze raw score data.csv')"
   ]
  },
  {
   "cell_type": "code",
   "execution_count": 2,
   "id": "77b88a5b",
   "metadata": {
    "scrolled": false
   },
   "outputs": [
    {
     "data": {
      "text/html": [
       "<div>\n",
       "<style scoped>\n",
       "    .dataframe tbody tr th:only-of-type {\n",
       "        vertical-align: middle;\n",
       "    }\n",
       "\n",
       "    .dataframe tbody tr th {\n",
       "        vertical-align: top;\n",
       "    }\n",
       "\n",
       "    .dataframe thead th {\n",
       "        text-align: right;\n",
       "    }\n",
       "</style>\n",
       "<table border=\"1\" class=\"dataframe\">\n",
       "  <thead>\n",
       "    <tr style=\"text-align: right;\">\n",
       "      <th></th>\n",
       "      <th>rowindex</th>\n",
       "      <th>contract</th>\n",
       "      <th>price_crossing</th>\n",
       "      <th>price_distortion</th>\n",
       "      <th>roll_start</th>\n",
       "      <th>roll_heart</th>\n",
       "      <th>near_minus_next</th>\n",
       "      <th>ctd_last_first</th>\n",
       "      <th>ctd1_percent</th>\n",
       "      <th>delivery_cost</th>\n",
       "      <th>delivery_ratio</th>\n",
       "      <th>squeeze</th>\n",
       "    </tr>\n",
       "  </thead>\n",
       "  <tbody>\n",
       "    <tr>\n",
       "      <th>0</th>\n",
       "      <td>1</td>\n",
       "      <td>TUZ92 Comdty</td>\n",
       "      <td>0.157659</td>\n",
       "      <td>0.900783</td>\n",
       "      <td>0.016053</td>\n",
       "      <td>1.000000</td>\n",
       "      <td>1.000000</td>\n",
       "      <td>0.902811</td>\n",
       "      <td>1.000000</td>\n",
       "      <td>0.010743</td>\n",
       "      <td>0.099313</td>\n",
       "      <td>True</td>\n",
       "    </tr>\n",
       "    <tr>\n",
       "      <th>1</th>\n",
       "      <td>2</td>\n",
       "      <td>TUH93 Comdty</td>\n",
       "      <td>0.018588</td>\n",
       "      <td>1.000000</td>\n",
       "      <td>1.000000</td>\n",
       "      <td>0.084724</td>\n",
       "      <td>0.778847</td>\n",
       "      <td>1.000000</td>\n",
       "      <td>0.136069</td>\n",
       "      <td>0.154116</td>\n",
       "      <td>1.000000</td>\n",
       "      <td>False</td>\n",
       "    </tr>\n",
       "    <tr>\n",
       "      <th>2</th>\n",
       "      <td>3</td>\n",
       "      <td>TUM93 Comdty</td>\n",
       "      <td>0.035755</td>\n",
       "      <td>0.045987</td>\n",
       "      <td>0.673543</td>\n",
       "      <td>1.000000</td>\n",
       "      <td>0.027689</td>\n",
       "      <td>0.067889</td>\n",
       "      <td>0.007696</td>\n",
       "      <td>0.034743</td>\n",
       "      <td>0.171676</td>\n",
       "      <td>False</td>\n",
       "    </tr>\n",
       "    <tr>\n",
       "      <th>3</th>\n",
       "      <td>4</td>\n",
       "      <td>TUU93 Comdty</td>\n",
       "      <td>0.663832</td>\n",
       "      <td>1.000000</td>\n",
       "      <td>0.063057</td>\n",
       "      <td>0.188899</td>\n",
       "      <td>0.064454</td>\n",
       "      <td>0.005742</td>\n",
       "      <td>0.166102</td>\n",
       "      <td>0.956668</td>\n",
       "      <td>1.000000</td>\n",
       "      <td>True</td>\n",
       "    </tr>\n",
       "    <tr>\n",
       "      <th>4</th>\n",
       "      <td>5</td>\n",
       "      <td>TUZ93 Comdty</td>\n",
       "      <td>0.109678</td>\n",
       "      <td>0.113601</td>\n",
       "      <td>0.726244</td>\n",
       "      <td>1.000000</td>\n",
       "      <td>1.000000</td>\n",
       "      <td>1.000000</td>\n",
       "      <td>1.000000</td>\n",
       "      <td>0.105467</td>\n",
       "      <td>0.145025</td>\n",
       "      <td>False</td>\n",
       "    </tr>\n",
       "  </tbody>\n",
       "</table>\n",
       "</div>"
      ],
      "text/plain": [
       "   rowindex      contract  price_crossing  price_distortion  roll_start  \\\n",
       "0         1  TUZ92 Comdty        0.157659          0.900783    0.016053   \n",
       "1         2  TUH93 Comdty        0.018588          1.000000    1.000000   \n",
       "2         3  TUM93 Comdty        0.035755          0.045987    0.673543   \n",
       "3         4  TUU93 Comdty        0.663832          1.000000    0.063057   \n",
       "4         5  TUZ93 Comdty        0.109678          0.113601    0.726244   \n",
       "\n",
       "   roll_heart  near_minus_next  ctd_last_first  ctd1_percent  delivery_cost  \\\n",
       "0    1.000000         1.000000        0.902811      1.000000       0.010743   \n",
       "1    0.084724         0.778847        1.000000      0.136069       0.154116   \n",
       "2    1.000000         0.027689        0.067889      0.007696       0.034743   \n",
       "3    0.188899         0.064454        0.005742      0.166102       0.956668   \n",
       "4    1.000000         1.000000        1.000000      1.000000       0.105467   \n",
       "\n",
       "   delivery_ratio  squeeze  \n",
       "0        0.099313     True  \n",
       "1        1.000000    False  \n",
       "2        0.171676    False  \n",
       "3        1.000000     True  \n",
       "4        0.145025    False  "
      ]
     },
     "execution_count": 2,
     "metadata": {},
     "output_type": "execute_result"
    }
   ],
   "source": [
    "df.head()"
   ]
  },
  {
   "cell_type": "code",
   "execution_count": 3,
   "id": "af249deb",
   "metadata": {
    "scrolled": false
   },
   "outputs": [
    {
     "data": {
      "text/plain": [
       "(900, 12)"
      ]
     },
     "execution_count": 3,
     "metadata": {},
     "output_type": "execute_result"
    }
   ],
   "source": [
    "df.shape"
   ]
  },
  {
   "cell_type": "code",
   "execution_count": 4,
   "id": "d04c9b50",
   "metadata": {},
   "outputs": [],
   "source": [
    "df = df.drop(['rowindex', 'contract'], axis=1)\n",
    "df.replace({False: 0, True: 1}, inplace=True)"
   ]
  },
  {
   "cell_type": "code",
   "execution_count": 5,
   "id": "bbc8cfb0",
   "metadata": {
    "scrolled": false
   },
   "outputs": [
    {
     "name": "stdout",
     "output_type": "stream",
     "text": [
      "<class 'pandas.core.frame.DataFrame'>\n",
      "RangeIndex: 900 entries, 0 to 899\n",
      "Data columns (total 10 columns):\n",
      " #   Column            Non-Null Count  Dtype  \n",
      "---  ------            --------------  -----  \n",
      " 0   price_crossing    900 non-null    float64\n",
      " 1   price_distortion  900 non-null    float64\n",
      " 2   roll_start        900 non-null    float64\n",
      " 3   roll_heart        900 non-null    float64\n",
      " 4   near_minus_next   900 non-null    float64\n",
      " 5   ctd_last_first    900 non-null    float64\n",
      " 6   ctd1_percent      900 non-null    float64\n",
      " 7   delivery_cost     900 non-null    float64\n",
      " 8   delivery_ratio    900 non-null    float64\n",
      " 9   squeeze           900 non-null    int64  \n",
      "dtypes: float64(9), int64(1)\n",
      "memory usage: 70.4 KB\n"
     ]
    }
   ],
   "source": [
    "df.info()"
   ]
  },
  {
   "cell_type": "code",
   "execution_count": 6,
   "id": "1a567f03",
   "metadata": {
    "scrolled": true
   },
   "outputs": [
    {
     "data": {
      "text/plain": [
       "0    516\n",
       "1    384\n",
       "Name: squeeze, dtype: int64"
      ]
     },
     "execution_count": 6,
     "metadata": {},
     "output_type": "execute_result"
    }
   ],
   "source": [
    "df['squeeze'].value_counts()"
   ]
  },
  {
   "cell_type": "markdown",
   "id": "6cbac26e",
   "metadata": {},
   "source": [
    "We observe that there are a good amount of data for both squeeze and not a squeeze."
   ]
  },
  {
   "cell_type": "code",
   "execution_count": 7,
   "id": "aaa3e2e1",
   "metadata": {},
   "outputs": [],
   "source": [
    "y_temp = df['squeeze'].values\n",
    "x = df.drop(['squeeze'], axis=1).values"
   ]
  },
  {
   "cell_type": "code",
   "execution_count": 8,
   "id": "174ef123",
   "metadata": {},
   "outputs": [
    {
     "name": "stdout",
     "output_type": "stream",
     "text": [
      "(675, 2) (675,)\n"
     ]
    }
   ],
   "source": [
    "# Splits data for train and test\n",
    "from sklearn.model_selection import train_test_split\n",
    "\n",
    "y = y_temp\n",
    "\n",
    "# We can uncomment the different datapairs below try building a classification model\n",
    "X = x[:, [0,1]] # 'price_crossing', 'price_distortion'\n",
    "# X = x[:, [1,5]] # 'price_distortion', 'ctd_last_first'\n",
    "# X = x[:, [7,8]] # 'delivery_cost', 'delivery_ratio'\n",
    "# X = x[:, [4,6]] # 'near_minus_next', 'ctd1_person'\n",
    "\n",
    "\n",
    "# Test set will be the 25% taken randomly\n",
    "X_train, X_test, y_train, y_test = train_test_split(X, y,test_size=0.25, random_state=33)\n",
    "print( X_train.shape, y_train.shape)"
   ]
  },
  {
   "cell_type": "code",
   "execution_count": 9,
   "id": "43b05c2f",
   "metadata": {
    "scrolled": true
   },
   "outputs": [],
   "source": [
    "# Standardize the features\n",
    "\n",
    "from sklearn import preprocessing # helps to scale data\n",
    "scaler = preprocessing.StandardScaler().fit(X_train)\n",
    "X_train = scaler.transform(X_train)\n",
    "X_test = scaler.transform(X_test)"
   ]
  },
  {
   "cell_type": "code",
   "execution_count": 10,
   "id": "2e2dff86",
   "metadata": {},
   "outputs": [
    {
     "data": {
      "text/plain": [
       "Text(0, 0.5, 'Price Distortion')"
      ]
     },
     "execution_count": 10,
     "metadata": {},
     "output_type": "execute_result"
    },
    {
     "data": {
      "image/png": "[encoded data removed]",
      "text/plain": [
       "<Figure size 432x288 with 1 Axes>"
      ]
     },
     "metadata": {
      "needs_background": "light"
     },
     "output_type": "display_data"
    }
   ],
   "source": [
    "# Plot data\n",
    "\n",
    "import matplotlib.pyplot as plt\n",
    "import seaborn as sns\n",
    "colors = ['red', 'greenyellow']\n",
    "\n",
    "#it doesnt like \"xrange\" changed to \"range\"\n",
    "for i in range(len(colors)):\n",
    "    xs = X_train[:, 0][y_train == i]\n",
    "    ys = X_train[:, 1][y_train == i]\n",
    "    plt.scatter(xs, ys, c=colors[i])\n",
    "\n",
    "plt.xlabel('Price Crossing')\n",
    "plt.ylabel('Price Distortion')"
   ]
  },
  {
   "cell_type": "markdown",
   "id": "572a32fc",
   "metadata": {},
   "source": [
    "This shows that the same plotting we did for the iris dataset doesnt work on the given treasury data.\n",
    "\n",
    "I am not sure how the classifier will run work in this data.\n",
    "\n",
    "Let's try plotting a histogram using the raw data."
   ]
  },
  {
   "cell_type": "code",
   "execution_count": 11,
   "id": "995ca6d4",
   "metadata": {},
   "outputs": [],
   "source": [
    "#We take 3 columns of data and we split it to plot on histograms\n",
    "\n",
    "df1=df.loc[df['squeeze'] == 1, 'price_crossing']\n",
    "df2=df.loc[df['squeeze'] == 0, 'price_crossing']\n",
    "df3=df.loc[df['squeeze'] == 1, 'price_distortion']\n",
    "df4=df.loc[df['squeeze'] == 0, 'price_distortion']\n",
    "df5=df.loc[df['squeeze'] == 1, 'delivery_ratio']\n",
    "df6=df.loc[df['squeeze'] == 0, 'delivery_ratio']"
   ]
  },
  {
   "cell_type": "code",
   "execution_count": 12,
   "id": "e197db47",
   "metadata": {
    "scrolled": false
   },
   "outputs": [
    {
     "data": {
      "image/png": "[encoded data removed]",
      "text/plain": [
       "<Figure size 432x288 with 1 Axes>"
      ]
     },
     "metadata": {
      "needs_background": "light"
     },
     "output_type": "display_data"
    }
   ],
   "source": [
    "import numpy as np\n",
    "import matplotlib\n",
    "from matplotlib import pyplot\n",
    "\n",
    "A = df5 # change the df pairs to see how the plots turn out\n",
    "B = df6\n",
    "\n",
    "bins = np.linspace(-1, 1, 100)\n",
    "\n",
    "pyplot.hist(A, bins, alpha=0.5, label='Squeeze')\n",
    "pyplot.hist(B, bins, alpha=0.5, label='Not a squeeze')\n",
    "pyplot.legend(loc='upper right')\n",
    "pyplot.show()"
   ]
  },
  {
   "cell_type": "markdown",
   "id": "86d37d9e",
   "metadata": {},
   "source": [
    "The histogram plots do not render any meaningful insight.\n",
    "\n",
    "Lets build the classifier"
   ]
  },
  {
   "cell_type": "code",
   "execution_count": 13,
   "id": "d7b3dd92",
   "metadata": {},
   "outputs": [
    {
     "name": "stdout",
     "output_type": "stream",
     "text": [
      "[[ 0.76097181 -0.17672634]]\n",
      "[0.33270558]\n"
     ]
    }
   ],
   "source": [
    "#found a typo here... incorrect from book followed by corrected code\n",
    "#from sklearn.linear_modelsklearn._model import SGDClassifier\n",
    "from sklearn.linear_model import SGDClassifier\n",
    "clf = SGDClassifier()\n",
    "clf.fit(X_train, y_train)\n",
    "\n",
    "print( clf.coef_)\n",
    "print( clf.intercept_)"
   ]
  },
  {
   "cell_type": "code",
   "execution_count": 14,
   "id": "6cb1ba2b",
   "metadata": {
    "scrolled": false
   },
   "outputs": [
    {
     "data": {
      "image/png": "[encoded data removed]",
      "text/plain": [
       "<Figure size 720x432 with 2 Axes>"
      ]
     },
     "metadata": {
      "needs_background": "light"
     },
     "output_type": "display_data"
    }
   ],
   "source": [
    "#don't forget to import Numpy as np here\n",
    "import numpy as np\n",
    "\n",
    "x_min, x_max = X_train[:, 0].min() - .5, X_train[:, 0].max() + .5\n",
    "y_min, y_max = X_train[:, 1].min() - .5, X_train[:, 1].max() + .5\n",
    "#error in case Xs or xs\n",
    "xs = np.arange(x_min, x_max, 0.5)\n",
    "fig, axes = plt.subplots(1, 2)\n",
    "fig.set_size_inches(10, 6)\n",
    "for i in [0]:\n",
    "    axes[i].set_aspect('equal')\n",
    "    axes[i].set_title('Class '+ str(i) + ' versus the rest')\n",
    "    axes[i].set_xlabel('Price distortion')\n",
    "    axes[i].set_ylabel('Price crossing')\n",
    "    axes[i].set_xlim(x_min, x_max)\n",
    "    axes[i].set_ylim(y_min, y_max)\n",
    "    \n",
    "    #error here need plt.\n",
    "    plt.sca(axes[i])\n",
    "    plt.scatter(X_train[:, 0], X_train[:, 1], c=y_train, cmap=plt.cm.prism)\n",
    "    ys = (-clf.intercept_[i] - xs * clf.coef_[i, 0]) / clf.coef_[i, 1]\n",
    "    plt.plot(xs, ys)"
   ]
  },
  {
   "cell_type": "markdown",
   "id": "869fa782",
   "metadata": {},
   "source": [
    "Why do I get the above extra chart?\n",
    "Need to do a bit more reading to understand"
   ]
  },
  {
   "cell_type": "code",
   "execution_count": 15,
   "id": "cadc4d0c",
   "metadata": {},
   "outputs": [
    {
     "name": "stdout",
     "output_type": "stream",
     "text": [
      "[1]\n",
      "[6.90596543]\n"
     ]
    }
   ],
   "source": [
    "print( clf.predict(scaler.transform([[4.7, 3.1]])) )\n",
    "#[0]\n",
    "\n",
    "print( clf.decision_function(scaler.transform([[4.7, 3.1]])) )"
   ]
  },
  {
   "cell_type": "code",
   "execution_count": 16,
   "id": "d141fc89",
   "metadata": {
    "scrolled": false
   },
   "outputs": [
    {
     "name": "stdout",
     "output_type": "stream",
     "text": [
      "0.5392592592592592\n",
      "0.52\n",
      "              precision    recall  f1-score   support\n",
      "\n",
      "           0       0.64      0.47      0.54       136\n",
      "           1       0.42      0.60      0.50        89\n",
      "\n",
      "    accuracy                           0.52       225\n",
      "   macro avg       0.53      0.53      0.52       225\n",
      "weighted avg       0.55      0.52      0.52       225\n",
      "\n",
      "[[64 72]\n",
      " [36 53]]\n"
     ]
    }
   ],
   "source": [
    "from sklearn import metrics\n",
    "\n",
    "y_train_pred = clf.predict(X_train)\n",
    "print( metrics.accuracy_score(y_train, y_train_pred) )\n",
    "\n",
    "y_pred = clf.predict(X_test)\n",
    "print( metrics.accuracy_score(y_test, y_pred) )\n",
    "\n",
    "print( metrics.classification_report(y_test, y_pred) )\n",
    "\n",
    "print( metrics.confusion_matrix(y_test, y_pred) )"
   ]
  },
  {
   "cell_type": "markdown",
   "id": "2985993c",
   "metadata": {},
   "source": [
    "We can conclude that all of the classifiers built using the different data pairs are very poor models. We cannot use them to classify and predict if there was a squeeze or not"
   ]
  },
  {
   "cell_type": "code",
   "execution_count": 17,
   "id": "a4f43b11",
   "metadata": {},
   "outputs": [
    {
     "name": "stdout",
     "output_type": "stream",
     "text": [
      "My name is Hariharan Manickam\n",
      "My NetID is: hm32\n",
      "I hereby certify that I have read the University policy on Academic Integrity and that I am not in violation.\n"
     ]
    }
   ],
   "source": [
    "print(\"My name is Hariharan Manickam\")\n",
    "print(\"My NetID is: hm32\")\n",
    "print(\"I hereby certify that I have read the University policy on Academic Integrity and that I am not in violation.\")"
   ]
  },
  {
   "cell_type": "code",
   "execution_count": null,
   "id": "8afd259b",
   "metadata": {},
   "outputs": [],
   "source": []
  },
  {
   "cell_type": "code",
   "execution_count": null,
   "id": "83d0e709",
   "metadata": {},
   "outputs": [],
   "source": []
  }
 ],
 "metadata": {
  "kernelspec": {
   "display_name": "Python 3 (ipykernel)",
   "language": "python",
   "name": "python3"
  },
  "language_info": {
   "codemirror_mode": {
    "name": "ipython",
    "version": 3
   },
   "file_extension": ".py",
   "mimetype": "text/x-python",
   "name": "python",
   "nbconvert_exporter": "python",
   "pygments_lexer": "ipython3",
   "version": "3.9.12"
  }
 },
 "nbformat": 4,
 "nbformat_minor": 5
}
